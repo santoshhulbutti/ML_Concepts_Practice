{
  "nbformat": 4,
  "nbformat_minor": 0,
  "metadata": {
    "colab": {
      "name": "SKLearn models learning session-Model improvisation_Rev03(Grid Search)",
      "provenance": [],
      "collapsed_sections": [],
      "authorship_tag": "ABX9TyMpXr9oSqe22PaP8FtPylPh",
      "include_colab_link": true
    },
    "kernelspec": {
      "name": "python3",
      "display_name": "Python 3"
    },
    "language_info": {
      "name": "python"
    }
  },
  "cells": [
    {
      "cell_type": "markdown",
      "metadata": {
        "id": "view-in-github",
        "colab_type": "text"
      },
      "source": [
        "<a href=\"https://colab.research.google.com/github/santoshhulbutti/ML_Concepts_Practice/blob/main/SKLearn_models_learning_session_Model_improvisation_Rev03(Grid_Search).ipynb\" target=\"_parent\"><img src=\"https://colab.research.google.com/assets/colab-badge.svg\" alt=\"Open In Colab\"/></a>"
      ]
    },
    {
      "cell_type": "code",
      "source": [
        "import random\n",
        "\n",
        "class Sentiment:\n",
        "  NEGATIVE = \"NEGATIVE\"\n",
        "  NEUTRAL = \"NEUTRAL\"\n",
        "  POSITIVE = \"POSITIVE\"\n",
        "\n",
        "class Review:\n",
        "  def __init__(self, text, score):\n",
        "    self.text = text\n",
        "    self.score = score\n",
        "    self.sentiment = self.get_sentiment()\n",
        "  \n",
        "  def get_sentiment(self):\n",
        "    if self.score <= 2:\n",
        "      return Sentiment.NEGATIVE\n",
        "    elif self.score ==3:\n",
        "      return Sentiment.NEUTRAL\n",
        "    else: #if score if 4 or 5\n",
        "      return Sentiment.POSITIVE\n",
        "  \n",
        "class ReviewContainer:\n",
        "  def __init__(self, reviews):\n",
        "    self.reviews = reviews\n",
        "\n",
        "  def get_text(self):\n",
        "    return [x.text for x in self.reviews]\n",
        "\n",
        "  def get_sentiment(self):\n",
        "    return [x.sentiment for x in self.reviews]\n",
        "\n",
        "  def evenly_distribute(self):\n",
        "    negative = list(filter(lambda x: x.sentiment == Sentiment.NEGATIVE, self.reviews))\n",
        "    positive = list(filter(lambda x: x.sentiment == Sentiment.POSITIVE, self.reviews))\n",
        "    neutral = list(filter(lambda x: x.sentiment == Sentiment.NEUTRAL, self.reviews))\n",
        "\n",
        "    positive_shrunk = positive[:len(negative)]\n",
        "    neutral_shrunk = neutral[:len(negative)]\n",
        "\n",
        "    self.reviews = negative + positive_shrunk + neutral_shrunk\n",
        "    random.shuffle(self.reviews)\n",
        "\n",
        "    # print(negative[0].text)\n",
        "    # print(len(negative))\n",
        "    # print(len(positive))\n",
        "    # print(len(neutral))\n",
        "\n"
      ],
      "metadata": {
        "id": "USTe6kmjjSCa"
      },
      "execution_count": 1,
      "outputs": []
    },
    {
      "cell_type": "markdown",
      "source": [
        "Cleaning data"
      ],
      "metadata": {
        "id": "WsVHdeNjGvfQ"
      }
    },
    {
      "cell_type": "code",
      "source": [
        "import json\n",
        "file_name = './sample_data/Books_small_10000.json'\n",
        "\n",
        "reviews = []\n",
        "with open(file_name) as f:\n",
        "   for line in f:\n",
        "     print(line)\n",
        "     break"
      ],
      "metadata": {
        "id": "CB2NKBnwGuQY",
        "colab": {
          "base_uri": "https://localhost:8080/"
        },
        "outputId": "7875da9e-5a06-4db2-905c-44ca0d89f0fe"
      },
      "execution_count": 2,
      "outputs": [
        {
          "output_type": "stream",
          "name": "stdout",
          "text": [
            "{\"reviewerID\": \"A1F2H80A1ZNN1N\", \"asin\": \"B00GDM3NQC\", \"reviewerName\": \"Connie Correll\", \"helpful\": [0, 0], \"reviewText\": \"I bought both boxed sets, books 1-5.  Really a great series!  Start book 1 three weeks ago and just finished book 5.  Sloane Monroe is a great character and being able to follow her through both private life and her PI life gets a reader very involved!  Although clues may be right in front of the reader, there are twists and turns that keep one guessing until the last page!  These are books you won't be disappointed with.\", \"overall\": 5.0, \"summary\": \"Can't stop reading!\", \"unixReviewTime\": 1390435200, \"reviewTime\": \"01 23, 2014\"}\n",
            "\n"
          ]
        }
      ]
    },
    {
      "cell_type": "markdown",
      "source": [
        "Loadning data"
      ],
      "metadata": {
        "id": "X1JncS-Rn-nW"
      }
    },
    {
      "cell_type": "code",
      "source": [
        "with open(file_name) as f:\n",
        "   for line in f:\n",
        "     review = json.loads(line)\n",
        "     reviews.append(Review(review['reviewText'], review['overall']))"
      ],
      "metadata": {
        "id": "DW_kYp94dY4U"
      },
      "execution_count": 3,
      "outputs": []
    },
    {
      "cell_type": "markdown",
      "source": [
        "Prep Data"
      ],
      "metadata": {
        "id": "ZLRFAuf_ljXr"
      }
    },
    {
      "cell_type": "code",
      "source": [
        "from sklearn.model_selection import train_test_split\n",
        "\n",
        "train, test = train_test_split(reviews, test_size = 0.25, random_state = 27)\n",
        "\n",
        "train_container = ReviewContainer(train)\n",
        "test_container = ReviewContainer(test)"
      ],
      "metadata": {
        "id": "-kAcjmADU-08"
      },
      "execution_count": 4,
      "outputs": []
    },
    {
      "cell_type": "code",
      "source": [
        "train_container.evenly_distribute()\n",
        "test_container.evenly_distribute()\n",
        "\n",
        "train_x = train_container.get_text()\n",
        "train_y = train_container.get_sentiment()\n",
        "\n",
        "test_x = test_container.get_text()\n",
        "test_y = test_container.get_sentiment()"
      ],
      "metadata": {
        "id": "R_UVHKY9h_L5"
      },
      "execution_count": 5,
      "outputs": []
    },
    {
      "cell_type": "markdown",
      "source": [
        "bag of words vectorization"
      ],
      "metadata": {
        "id": "OC_io270Kt_X"
      }
    },
    {
      "cell_type": "code",
      "source": [
        "#using different vectorizer\n",
        "from sklearn.feature_extraction.text import TfidfVectorizer\n",
        "\n",
        "vectorizer = TfidfVectorizer()\n",
        "train_x_vectors = vectorizer.fit_transform(train_x)\n",
        "test_x_vectors = vectorizer.transform(test_x)"
      ],
      "metadata": {
        "id": "krtniP3NKyOs"
      },
      "execution_count": 6,
      "outputs": []
    },
    {
      "cell_type": "code",
      "source": [
        "print(train_x[0])\n",
        "print(train_x_vectors[0].toarray())\n",
        "# print(train_x_vectors[0])"
      ],
      "metadata": {
        "id": "dtnQ0Jj3L2Uy",
        "colab": {
          "base_uri": "https://localhost:8080/"
        },
        "outputId": "b1b1dfce-896b-49fb-d0bd-f8a97a605994"
      },
      "execution_count": 7,
      "outputs": [
        {
          "output_type": "stream",
          "name": "stdout",
          "text": [
            "The CD works as a decent companion to the book, although I might have found an MP3-download format easier to manage in some cases. The CD is useful for those times when the sound of another's voice can help you to tune out the &#34;noise&#34; inside your own thoughts and focus on the meditation.\n",
            "[[0. 0. 0. ... 0. 0. 0.]]\n"
          ]
        }
      ]
    },
    {
      "cell_type": "markdown",
      "source": [
        "## Classification"
      ],
      "metadata": {
        "id": "l9SKCCVMOKoO"
      }
    },
    {
      "cell_type": "markdown",
      "source": [
        "Linear Support Vector Machines"
      ],
      "metadata": {
        "id": "gsOSu9t2OOk1"
      }
    },
    {
      "cell_type": "code",
      "source": [
        "from sklearn import svm\n",
        "clf_svm = svm.SVC(kernel ='linear')\n",
        "clf_svm.fit(train_x_vectors, train_y)"
      ],
      "metadata": {
        "id": "KTZd6fWjMJlA",
        "colab": {
          "base_uri": "https://localhost:8080/"
        },
        "outputId": "f26d720a-69a3-46bf-b24d-2c9966b95745"
      },
      "execution_count": 8,
      "outputs": [
        {
          "output_type": "execute_result",
          "data": {
            "text/plain": [
              "SVC(kernel='linear')"
            ]
          },
          "metadata": {},
          "execution_count": 8
        }
      ]
    },
    {
      "cell_type": "code",
      "source": [
        "test_x[0]"
      ],
      "metadata": {
        "id": "cRC9xpDLSzMc",
        "colab": {
          "base_uri": "https://localhost:8080/",
          "height": 53
        },
        "outputId": "48f8dd3f-a515-4b61-938c-35acf1720fd4"
      },
      "execution_count": 9,
      "outputs": [
        {
          "output_type": "execute_result",
          "data": {
            "text/plain": [
              "\"I laughed.  I cried.  I loved this book.  A sensitive portrayal of a totally dependent life without being overly sentimental or cloying.  Who set who's life free...........a beautiful story.\""
            ],
            "application/vnd.google.colaboratory.intrinsic+json": {
              "type": "string"
            }
          },
          "metadata": {},
          "execution_count": 9
        }
      ]
    },
    {
      "cell_type": "code",
      "source": [
        "clf_svm.predict(test_x_vectors[0])"
      ],
      "metadata": {
        "id": "r6gFQ1vrSrEW",
        "colab": {
          "base_uri": "https://localhost:8080/"
        },
        "outputId": "a19d6a69-84c0-4ffe-a2b8-e91c464c68c2"
      },
      "execution_count": 10,
      "outputs": [
        {
          "output_type": "execute_result",
          "data": {
            "text/plain": [
              "array(['POSITIVE'], dtype='<U8')"
            ]
          },
          "metadata": {},
          "execution_count": 10
        }
      ]
    },
    {
      "cell_type": "markdown",
      "source": [
        "Decision tree"
      ],
      "metadata": {
        "id": "cwSKrK2kTIf1"
      }
    },
    {
      "cell_type": "code",
      "source": [
        "from sklearn.tree import DecisionTreeClassifier\n",
        "\n",
        "clf_dec = DecisionTreeClassifier()\n",
        "clf_dec.fit(train_x_vectors, train_y)"
      ],
      "metadata": {
        "id": "oM_XDTBtTLxN",
        "colab": {
          "base_uri": "https://localhost:8080/"
        },
        "outputId": "c4cd14a7-6b6b-4205-8c8e-45df98347440"
      },
      "execution_count": 11,
      "outputs": [
        {
          "output_type": "execute_result",
          "data": {
            "text/plain": [
              "DecisionTreeClassifier()"
            ]
          },
          "metadata": {},
          "execution_count": 11
        }
      ]
    },
    {
      "cell_type": "code",
      "source": [
        "clf_dec.predict(test_x_vectors[0])"
      ],
      "metadata": {
        "id": "0xDle4h2UAyh",
        "colab": {
          "base_uri": "https://localhost:8080/"
        },
        "outputId": "0390b879-1563-4f94-ffa9-171e04b988e5"
      },
      "execution_count": 12,
      "outputs": [
        {
          "output_type": "execute_result",
          "data": {
            "text/plain": [
              "array(['POSITIVE'], dtype='<U8')"
            ]
          },
          "metadata": {},
          "execution_count": 12
        }
      ]
    },
    {
      "cell_type": "markdown",
      "source": [
        "Naive Bayes"
      ],
      "metadata": {
        "id": "oyv1RgH5ULy7"
      }
    },
    {
      "cell_type": "code",
      "source": [
        "from sklearn.naive_bayes import GaussianNB\n",
        "\n",
        "clf_gnb = GaussianNB()\n",
        "clf_gnb.fit(train_x_vectors.toarray(), train_y)"
      ],
      "metadata": {
        "id": "jvvFg97MUJXs",
        "colab": {
          "base_uri": "https://localhost:8080/"
        },
        "outputId": "6cdc1875-7a27-4023-b4f4-d4a989e74be5"
      },
      "execution_count": 13,
      "outputs": [
        {
          "output_type": "execute_result",
          "data": {
            "text/plain": [
              "GaussianNB()"
            ]
          },
          "metadata": {},
          "execution_count": 13
        }
      ]
    },
    {
      "cell_type": "code",
      "source": [
        "clf_gnb.predict(test_x_vectors[0].toarray())"
      ],
      "metadata": {
        "id": "N0TH1IcyVCLT",
        "colab": {
          "base_uri": "https://localhost:8080/"
        },
        "outputId": "486f9908-959f-434b-b8f2-f2ec271cee20"
      },
      "execution_count": 14,
      "outputs": [
        {
          "output_type": "execute_result",
          "data": {
            "text/plain": [
              "array(['POSITIVE'], dtype='<U8')"
            ]
          },
          "metadata": {},
          "execution_count": 14
        }
      ]
    },
    {
      "cell_type": "markdown",
      "source": [
        "Logistic Regression"
      ],
      "metadata": {
        "id": "0asN_sVoVsAr"
      }
    },
    {
      "cell_type": "code",
      "source": [
        "from sklearn.linear_model import LogisticRegression\n",
        "\n",
        "clf_log = LogisticRegression(solver = 'newton-cg')\n",
        "clf_log.fit(train_x_vectors, train_y)"
      ],
      "metadata": {
        "id": "aS9V9qchVIII",
        "colab": {
          "base_uri": "https://localhost:8080/"
        },
        "outputId": "a9629fd8-23a3-4f4c-dcce-96feb8c95cf8"
      },
      "execution_count": 15,
      "outputs": [
        {
          "output_type": "execute_result",
          "data": {
            "text/plain": [
              "LogisticRegression(solver='newton-cg')"
            ]
          },
          "metadata": {},
          "execution_count": 15
        }
      ]
    },
    {
      "cell_type": "code",
      "source": [
        "clf_log.predict(test_x_vectors[0])"
      ],
      "metadata": {
        "id": "3AQO9F4pWKU9",
        "colab": {
          "base_uri": "https://localhost:8080/"
        },
        "outputId": "ca2c8311-d872-40fc-e08a-078e6c0a243d"
      },
      "execution_count": 16,
      "outputs": [
        {
          "output_type": "execute_result",
          "data": {
            "text/plain": [
              "array(['POSITIVE'], dtype='<U8')"
            ]
          },
          "metadata": {},
          "execution_count": 16
        }
      ]
    },
    {
      "cell_type": "markdown",
      "source": [
        "### EVALUATION  \n",
        "\n",
        "mean accuracy"
      ],
      "metadata": {
        "id": "-tyzVxjv2ZS3"
      }
    },
    {
      "cell_type": "code",
      "source": [
        "# for Linear Support Vector Machines\n",
        "clf_svm.score(test_x_vectors, test_y)"
      ],
      "metadata": {
        "id": "bP2LIfzD2c0X",
        "colab": {
          "base_uri": "https://localhost:8080/"
        },
        "outputId": "00f9c346-d82e-4fe5-85d4-1953123e2d1d"
      },
      "execution_count": 17,
      "outputs": [
        {
          "output_type": "execute_result",
          "data": {
            "text/plain": [
              "0.6431623931623932"
            ]
          },
          "metadata": {},
          "execution_count": 17
        }
      ]
    },
    {
      "cell_type": "code",
      "source": [
        "# for Decision tree classifier\n",
        "clf_dec.score(test_x_vectors, test_y)"
      ],
      "metadata": {
        "id": "aTyoWFF123CL",
        "colab": {
          "base_uri": "https://localhost:8080/"
        },
        "outputId": "1f7a7a18-6e4b-47f1-92a0-d6c7ce28ab97"
      },
      "execution_count": 18,
      "outputs": [
        {
          "output_type": "execute_result",
          "data": {
            "text/plain": [
              "0.4423076923076923"
            ]
          },
          "metadata": {},
          "execution_count": 18
        }
      ]
    },
    {
      "cell_type": "code",
      "source": [
        "# for Naive bayes - GuassianNB\n",
        "clf_gnb.score(test_x_vectors.toarray(), test_y)"
      ],
      "metadata": {
        "id": "JZnmCPS83Bvq",
        "colab": {
          "base_uri": "https://localhost:8080/"
        },
        "outputId": "c0039d71-8818-434c-dd4e-f455ec7162d8"
      },
      "execution_count": 19,
      "outputs": [
        {
          "output_type": "execute_result",
          "data": {
            "text/plain": [
              "0.4465811965811966"
            ]
          },
          "metadata": {},
          "execution_count": 19
        }
      ]
    },
    {
      "cell_type": "code",
      "source": [
        "# for logistic regression - newton-cg solver\n",
        "clf_log.score(test_x_vectors, test_y)"
      ],
      "metadata": {
        "id": "Ye7tp-hw3BiD",
        "colab": {
          "base_uri": "https://localhost:8080/"
        },
        "outputId": "d6d46223-1289-40d3-f7c9-d92682b77c45"
      },
      "execution_count": 20,
      "outputs": [
        {
          "output_type": "execute_result",
          "data": {
            "text/plain": [
              "0.6773504273504274"
            ]
          },
          "metadata": {},
          "execution_count": 20
        }
      ]
    },
    {
      "cell_type": "markdown",
      "source": [
        "## F1 Score"
      ],
      "metadata": {
        "id": "w77kkVu83ZpG"
      }
    },
    {
      "cell_type": "code",
      "source": [
        "from sklearn.metrics import f1_score\n",
        "\n",
        "\n",
        "print(f1_score(test_y, clf_svm.predict(test_x_vectors), average=None, labels=[Sentiment.POSITIVE, Sentiment.NEUTRAL, Sentiment.NEGATIVE]))\n",
        "print(f1_score(test_y, clf_dec.predict(test_x_vectors), average=None, labels=[Sentiment.POSITIVE, Sentiment.NEUTRAL, Sentiment.NEGATIVE]))\n",
        "print(f1_score(test_y, clf_gnb.predict(test_x_vectors.toarray()), average=None, labels=[Sentiment.POSITIVE, Sentiment.NEUTRAL, Sentiment.NEGATIVE]))\n",
        "print(f1_score(test_y, clf_log.predict(test_x_vectors), average=None, labels=[Sentiment.POSITIVE, Sentiment.NEUTRAL, Sentiment.NEGATIVE]))"
      ],
      "metadata": {
        "id": "_fKbzu1u4yFg",
        "colab": {
          "base_uri": "https://localhost:8080/"
        },
        "outputId": "4a4f0860-aa68-417b-ea1d-6b2e56faf4a6"
      },
      "execution_count": 21,
      "outputs": [
        {
          "output_type": "stream",
          "name": "stdout",
          "text": [
            "[0.73684211 0.54368932 0.64473684]\n",
            "[0.49681529 0.38795987 0.43962848]\n",
            "[0.46357616 0.4137931  0.46853147]\n",
            "[0.75       0.59210526 0.68243243]\n"
          ]
        }
      ]
    },
    {
      "cell_type": "code",
      "source": [
        "from sklearn.model_selection import GridSearchCV\n",
        "\n",
        "parameters = {'kernel' : ('linear', 'rbf'), 'C':(1,4,8,16,32)}\n",
        "svc = svm.SVC()\n",
        "\n",
        "clf = GridSearchCV(svc, parameters, cv=5)\n",
        "clf.fit(train_x_vectors, train_y)"
      ],
      "metadata": {
        "colab": {
          "base_uri": "https://localhost:8080/"
        },
        "id": "cukrqE9pKayi",
        "outputId": "aa225ebc-ccd0-42be-a9ca-8da687c36b68"
      },
      "execution_count": 24,
      "outputs": [
        {
          "output_type": "execute_result",
          "data": {
            "text/plain": [
              "GridSearchCV(cv=5, estimator=SVC(),\n",
              "             param_grid={'C': (1, 4, 8, 16, 32), 'kernel': ('linear', 'rbf')})"
            ]
          },
          "metadata": {},
          "execution_count": 24
        }
      ]
    },
    {
      "cell_type": "code",
      "source": [
        "clf.score(test_x_vectors, test_y)"
      ],
      "metadata": {
        "colab": {
          "base_uri": "https://localhost:8080/"
        },
        "id": "C8MRcrIBLki-",
        "outputId": "3c5c3b82-fad6-42f6-924d-da10fe869fb8"
      },
      "execution_count": 25,
      "outputs": [
        {
          "output_type": "execute_result",
          "data": {
            "text/plain": [
              "0.6495726495726496"
            ]
          },
          "metadata": {},
          "execution_count": 25
        }
      ]
    },
    {
      "cell_type": "markdown",
      "source": [
        "## Saving the model in pickle"
      ],
      "metadata": {
        "id": "Dp8Njgn6N_ny"
      }
    },
    {
      "cell_type": "code",
      "source": [
        "import pickle\n",
        "\n",
        "with open('./sample_data/sentiment_classifier.pkl', 'wb') as fi:\n",
        "  pickle.dump(clf, fi)"
      ],
      "metadata": {
        "id": "IfpyeDxBOEl5"
      },
      "execution_count": 28,
      "outputs": []
    },
    {
      "cell_type": "markdown",
      "source": [
        "## Loading the model"
      ],
      "metadata": {
        "id": "dy4AhSukO0DX"
      }
    },
    {
      "cell_type": "code",
      "source": [
        "with open('./sample_data/sentiment_classifier.pkl', 'rb') as fi:\n",
        "  loaded_clf = pickle.load(fi)"
      ],
      "metadata": {
        "id": "LE0TdNknOzfF"
      },
      "execution_count": 29,
      "outputs": []
    },
    {
      "cell_type": "code",
      "source": [
        "print(test_x[2])"
      ],
      "metadata": {
        "colab": {
          "base_uri": "https://localhost:8080/"
        },
        "id": "G6X75YRHPJK0",
        "outputId": "412f09b0-63c9-4ea0-b61c-da60d8146a75"
      },
      "execution_count": 30,
      "outputs": [
        {
          "output_type": "stream",
          "name": "stdout",
          "text": [
            "Good information but definitely not complete. Web contacts were terrible. Could use some illustrations. It's a thin little book but good to put in your pocket. Good for a library but not the only book you'll need.\n"
          ]
        }
      ]
    },
    {
      "cell_type": "code",
      "source": [
        "loaded_clf.predict(test_x_vectors[2])"
      ],
      "metadata": {
        "colab": {
          "base_uri": "https://localhost:8080/"
        },
        "id": "V1cr4c53PMxP",
        "outputId": "86ca6323-c745-46a8-b359-adb11346885d"
      },
      "execution_count": 31,
      "outputs": [
        {
          "output_type": "execute_result",
          "data": {
            "text/plain": [
              "array(['NEUTRAL'], dtype='<U8')"
            ]
          },
          "metadata": {},
          "execution_count": 31
        }
      ]
    },
    {
      "cell_type": "code",
      "source": [
        "print(test_x[8])\n",
        "print(loaded_clf.predict(test_x_vectors[8]))"
      ],
      "metadata": {
        "colab": {
          "base_uri": "https://localhost:8080/"
        },
        "id": "8PVSRd30PV-p",
        "outputId": "033482fc-6196-4144-b4dd-d53e116e405b"
      },
      "execution_count": 32,
      "outputs": [
        {
          "output_type": "stream",
          "name": "stdout",
          "text": [
            "I love Scott Turow, especially Presumed Innocent and Innocent, as well as The Burden of Proof, but this one was really awful. Not only does it have fathers committing incest and then killing daughters, it has wives killing husbands. Basically I think he lost control of the story here. Too bad because it had a terrific premise.\n",
            "['NEGATIVE']\n"
          ]
        }
      ]
    },
    {
      "cell_type": "code",
      "source": [
        "print(test_x[35])\n",
        "print(loaded_clf.predict(test_x_vectors[35]))"
      ],
      "metadata": {
        "colab": {
          "base_uri": "https://localhost:8080/"
        },
        "id": "G76M3iYRPheW",
        "outputId": "c8d626e8-f4b3-48bc-a713-89f1b71f43f7"
      },
      "execution_count": 33,
      "outputs": [
        {
          "output_type": "stream",
          "name": "stdout",
          "text": [
            "When he first started off, there was a receptive audience of older folks willing and eager to pay O'Rourke good money to confirm...and enhance...their worst impressions of a generation they resented. Now in his 60s, his audience is primarily those members of the Boomer generation who, like O'Rourke, react with glee that their generation didn't live up to its ideals because it justifies all the time they spent watching from the sidelines as their bolder brethren tried to change a society sorely in need of change. They are the self-loathing Boomers. (More review of O'Rourke at The Nobby Works, Curse of the Boomers, Part 2.)[...]\n",
            "['NEGATIVE']\n"
          ]
        }
      ]
    },
    {
      "cell_type": "code",
      "source": [
        "print(test_x[27])\n",
        "print(loaded_clf.predict(test_x_vectors[27]))"
      ],
      "metadata": {
        "colab": {
          "base_uri": "https://localhost:8080/"
        },
        "id": "wvP-vfRDPoV-",
        "outputId": "38a8cb76-b873-4a6d-f90c-b89bebd0ff9b"
      },
      "execution_count": 34,
      "outputs": [
        {
          "output_type": "stream",
          "name": "stdout",
          "text": [
            "Lacy and Jason face a mystery that has Lacy in the hospital and Jason feeling out of it.  As the wedding approaches the intrigue builds.  You won't want to miss this or the five other books that proceed this sixth book in the series.  I have them all.  Great reads each one.\n",
            "['POSITIVE']\n"
          ]
        }
      ]
    },
    {
      "cell_type": "code",
      "source": [
        ""
      ],
      "metadata": {
        "id": "1eBcOxAsPwm2"
      },
      "execution_count": null,
      "outputs": []
    }
  ]
}