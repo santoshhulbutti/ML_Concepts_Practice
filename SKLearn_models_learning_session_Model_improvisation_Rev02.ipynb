{
  "nbformat": 4,
  "nbformat_minor": 0,
  "metadata": {
    "colab": {
      "name": "SKLearn models learning session-Model improvisation_Rev02",
      "provenance": [],
      "collapsed_sections": [],
      "authorship_tag": "ABX9TyMi0dvWN0Uf9QWxwiuOLx+A",
      "include_colab_link": true
    },
    "kernelspec": {
      "name": "python3",
      "display_name": "Python 3"
    },
    "language_info": {
      "name": "python"
    }
  },
  "cells": [
    {
      "cell_type": "markdown",
      "metadata": {
        "id": "view-in-github",
        "colab_type": "text"
      },
      "source": [
        "<a href=\"https://colab.research.google.com/github/santoshhulbutti/ML_Concepts_Practice/blob/main/SKLearn_models_learning_session_Model_improvisation_Rev02.ipynb\" target=\"_parent\"><img src=\"https://colab.research.google.com/assets/colab-badge.svg\" alt=\"Open In Colab\"/></a>"
      ]
    },
    {
      "cell_type": "code",
      "source": [
        "import random\n",
        "\n",
        "class Sentiment:\n",
        "  NEGATIVE = \"NEGATIVE\"\n",
        "  NEUTRAL = \"NEUTRAL\"\n",
        "  POSITIVE = \"POSITIVE\"\n",
        "\n",
        "class Review:\n",
        "  def __init__(self, text, score):\n",
        "    self.text = text\n",
        "    self.score = score\n",
        "    self.sentiment = self.get_sentiment()\n",
        "  \n",
        "  def get_sentiment(self):\n",
        "    if self.score <= 2:\n",
        "      return Sentiment.NEGATIVE\n",
        "    elif self.score ==3:\n",
        "      return Sentiment.NEUTRAL\n",
        "    else: #if score if 4 or 5\n",
        "      return Sentiment.POSITIVE\n",
        "  \n",
        "class ReviewContainer:\n",
        "  def __init__(self, reviews):\n",
        "    self.reviews = reviews\n",
        "\n",
        "  def get_text(self):\n",
        "    return [x.text for x in self.reviews]\n",
        "\n",
        "  def get_sentiment(self):\n",
        "    return [x.sentiment for x in self.reviews]\n",
        "\n",
        "  def evenly_distribute(self):\n",
        "    negative = list(filter(lambda x: x.sentiment == Sentiment.NEGATIVE, self.reviews))\n",
        "    positive = list(filter(lambda x: x.sentiment == Sentiment.POSITIVE, self.reviews))\n",
        "    neutral = list(filter(lambda x: x.sentiment == Sentiment.NEUTRAL, self.reviews))\n",
        "\n",
        "    positive_shrunk = positive[:len(negative)]\n",
        "    neutral_shrunk = neutral[:len(negative)]\n",
        "\n",
        "    self.reviews = negative + positive_shrunk + neutral_shrunk\n",
        "    random.shuffle(self.reviews)\n",
        "\n",
        "    # print(negative[0].text)\n",
        "    # print(len(negative))\n",
        "    # print(len(positive))\n",
        "    # print(len(neutral))\n",
        "\n"
      ],
      "metadata": {
        "id": "USTe6kmjjSCa"
      },
      "execution_count": 2,
      "outputs": []
    },
    {
      "cell_type": "markdown",
      "source": [
        "Cleaning data"
      ],
      "metadata": {
        "id": "WsVHdeNjGvfQ"
      }
    },
    {
      "cell_type": "code",
      "source": [
        "import json\n",
        "file_name = './sample_data/Books_small_10000.json'\n",
        "\n",
        "reviews = []\n",
        "with open(file_name) as f:\n",
        "   for line in f:\n",
        "     print(line)\n",
        "     break"
      ],
      "metadata": {
        "id": "CB2NKBnwGuQY",
        "colab": {
          "base_uri": "https://localhost:8080/"
        },
        "outputId": "9f84ecbf-9f72-4393-8fa9-23c19f1286a1"
      },
      "execution_count": 3,
      "outputs": [
        {
          "output_type": "stream",
          "name": "stdout",
          "text": [
            "{\"reviewerID\": \"A1F2H80A1ZNN1N\", \"asin\": \"B00GDM3NQC\", \"reviewerName\": \"Connie Correll\", \"helpful\": [0, 0], \"reviewText\": \"I bought both boxed sets, books 1-5.  Really a great series!  Start book 1 three weeks ago and just finished book 5.  Sloane Monroe is a great character and being able to follow her through both private life and her PI life gets a reader very involved!  Although clues may be right in front of the reader, there are twists and turns that keep one guessing until the last page!  These are books you won't be disappointed with.\", \"overall\": 5.0, \"summary\": \"Can't stop reading!\", \"unixReviewTime\": 1390435200, \"reviewTime\": \"01 23, 2014\"}\n",
            "\n"
          ]
        }
      ]
    },
    {
      "cell_type": "markdown",
      "source": [
        "Loadning data"
      ],
      "metadata": {
        "id": "X1JncS-Rn-nW"
      }
    },
    {
      "cell_type": "code",
      "source": [
        "with open(file_name) as f:\n",
        "   for line in f:\n",
        "     review = json.loads(line)\n",
        "     reviews.append(Review(review['reviewText'], review['overall']))"
      ],
      "metadata": {
        "id": "DW_kYp94dY4U"
      },
      "execution_count": 4,
      "outputs": []
    },
    {
      "cell_type": "markdown",
      "source": [
        "Prep Data"
      ],
      "metadata": {
        "id": "ZLRFAuf_ljXr"
      }
    },
    {
      "cell_type": "code",
      "source": [
        "from sklearn.model_selection import train_test_split\n",
        "\n",
        "train, test = train_test_split(reviews, test_size = 0.25, random_state = 27)\n",
        "\n",
        "train_container = ReviewContainer(train)\n",
        "test_container = ReviewContainer(test)"
      ],
      "metadata": {
        "id": "-kAcjmADU-08"
      },
      "execution_count": 5,
      "outputs": []
    },
    {
      "cell_type": "code",
      "source": [
        "train_container.evenly_distribute()\n",
        "test_container.evenly_distribute()\n",
        "\n",
        "train_x = train_container.get_text()\n",
        "train_y = train_container.get_sentiment()\n",
        "\n",
        "test_x = test_container.get_text()\n",
        "test_y = test_container.get_sentiment()"
      ],
      "metadata": {
        "id": "R_UVHKY9h_L5"
      },
      "execution_count": 6,
      "outputs": []
    },
    {
      "cell_type": "markdown",
      "source": [
        "bag of words vectorization"
      ],
      "metadata": {
        "id": "OC_io270Kt_X"
      }
    },
    {
      "cell_type": "code",
      "source": [
        "#using different vectorizer\n",
        "from sklearn.feature_extraction.text import TfidfVectorizer\n",
        "\n",
        "vectorizer = TfidfVectorizer()\n",
        "train_x_vectors = vectorizer.fit_transform(train_x)\n",
        "test_x_vectors = vectorizer.transform(test_x)"
      ],
      "metadata": {
        "id": "krtniP3NKyOs"
      },
      "execution_count": 7,
      "outputs": []
    },
    {
      "cell_type": "code",
      "source": [
        "print(train_x[0])\n",
        "print(train_x_vectors[0].toarray())\n",
        "# print(train_x_vectors[0])"
      ],
      "metadata": {
        "id": "dtnQ0Jj3L2Uy",
        "colab": {
          "base_uri": "https://localhost:8080/"
        },
        "outputId": "4fe8a5b5-2eed-470c-da34-1e8983506fd1"
      },
      "execution_count": 8,
      "outputs": [
        {
          "output_type": "stream",
          "name": "stdout",
          "text": [
            "Awesome book couldn't put it down. I didn't want it to end a great author who know how to keep the reader involved\n",
            "[[0. 0. 0. ... 0. 0. 0.]]\n"
          ]
        }
      ]
    },
    {
      "cell_type": "markdown",
      "source": [
        "## Classification"
      ],
      "metadata": {
        "id": "l9SKCCVMOKoO"
      }
    },
    {
      "cell_type": "markdown",
      "source": [
        "Linear Support Vector Machines"
      ],
      "metadata": {
        "id": "gsOSu9t2OOk1"
      }
    },
    {
      "cell_type": "code",
      "source": [
        "from sklearn import svm\n",
        "clf_svm = svm.SVC(kernel ='linear')\n",
        "clf_svm.fit(train_x_vectors, train_y)"
      ],
      "metadata": {
        "id": "KTZd6fWjMJlA",
        "colab": {
          "base_uri": "https://localhost:8080/"
        },
        "outputId": "d0a5c9fd-4999-4ff3-bde1-728380ce29a0"
      },
      "execution_count": 9,
      "outputs": [
        {
          "output_type": "execute_result",
          "data": {
            "text/plain": [
              "SVC(kernel='linear')"
            ]
          },
          "metadata": {},
          "execution_count": 9
        }
      ]
    },
    {
      "cell_type": "code",
      "source": [
        "test_x[0]"
      ],
      "metadata": {
        "id": "cRC9xpDLSzMc",
        "colab": {
          "base_uri": "https://localhost:8080/",
          "height": 53
        },
        "outputId": "4a592b10-119c-449b-8952-f38549794cc2"
      },
      "execution_count": 10,
      "outputs": [
        {
          "output_type": "execute_result",
          "data": {
            "text/plain": [
              "\"Easy, quick, happy ending book.  Different type of story.  Needed books for a long flight.  I'm usually a picky reader, but this kept my interest.  The reason for 3 stars is because of some of the language and detail to describe sex was unnecessary and a little too much.\""
            ],
            "application/vnd.google.colaboratory.intrinsic+json": {
              "type": "string"
            }
          },
          "metadata": {},
          "execution_count": 10
        }
      ]
    },
    {
      "cell_type": "code",
      "source": [
        "clf_svm.predict(test_x_vectors[0])"
      ],
      "metadata": {
        "id": "r6gFQ1vrSrEW",
        "colab": {
          "base_uri": "https://localhost:8080/"
        },
        "outputId": "8a7cda8d-5e01-4941-9c2b-be00db4a4c8d"
      },
      "execution_count": 11,
      "outputs": [
        {
          "output_type": "execute_result",
          "data": {
            "text/plain": [
              "array(['NEUTRAL'], dtype='<U8')"
            ]
          },
          "metadata": {},
          "execution_count": 11
        }
      ]
    },
    {
      "cell_type": "markdown",
      "source": [
        "Decision tree"
      ],
      "metadata": {
        "id": "cwSKrK2kTIf1"
      }
    },
    {
      "cell_type": "code",
      "source": [
        "from sklearn.tree import DecisionTreeClassifier\n",
        "\n",
        "clf_dec = DecisionTreeClassifier()\n",
        "clf_dec.fit(train_x_vectors, train_y)"
      ],
      "metadata": {
        "id": "oM_XDTBtTLxN",
        "colab": {
          "base_uri": "https://localhost:8080/"
        },
        "outputId": "f2729bff-d15b-474c-da33-32e8b56fb54e"
      },
      "execution_count": 12,
      "outputs": [
        {
          "output_type": "execute_result",
          "data": {
            "text/plain": [
              "DecisionTreeClassifier()"
            ]
          },
          "metadata": {},
          "execution_count": 12
        }
      ]
    },
    {
      "cell_type": "code",
      "source": [
        "clf_dec.predict(test_x_vectors[0])"
      ],
      "metadata": {
        "id": "0xDle4h2UAyh",
        "colab": {
          "base_uri": "https://localhost:8080/"
        },
        "outputId": "70717df0-9777-4855-c178-72104f023eab"
      },
      "execution_count": 13,
      "outputs": [
        {
          "output_type": "execute_result",
          "data": {
            "text/plain": [
              "array(['NEUTRAL'], dtype='<U8')"
            ]
          },
          "metadata": {},
          "execution_count": 13
        }
      ]
    },
    {
      "cell_type": "markdown",
      "source": [
        "Naive Bayes"
      ],
      "metadata": {
        "id": "oyv1RgH5ULy7"
      }
    },
    {
      "cell_type": "code",
      "source": [
        "from sklearn.naive_bayes import GaussianNB\n",
        "\n",
        "clf_gnb = GaussianNB()\n",
        "clf_gnb.fit(train_x_vectors.toarray(), train_y)"
      ],
      "metadata": {
        "id": "jvvFg97MUJXs",
        "colab": {
          "base_uri": "https://localhost:8080/"
        },
        "outputId": "29d7b513-58bf-4fa2-e14b-9c591c1dffc9"
      },
      "execution_count": 14,
      "outputs": [
        {
          "output_type": "execute_result",
          "data": {
            "text/plain": [
              "GaussianNB()"
            ]
          },
          "metadata": {},
          "execution_count": 14
        }
      ]
    },
    {
      "cell_type": "code",
      "source": [
        "clf_gnb.predict(test_x_vectors[0].toarray())"
      ],
      "metadata": {
        "id": "N0TH1IcyVCLT",
        "colab": {
          "base_uri": "https://localhost:8080/"
        },
        "outputId": "66e9ad3f-eef5-4e55-b873-1f21c5d9a1e3"
      },
      "execution_count": 15,
      "outputs": [
        {
          "output_type": "execute_result",
          "data": {
            "text/plain": [
              "array(['NEUTRAL'], dtype='<U8')"
            ]
          },
          "metadata": {},
          "execution_count": 15
        }
      ]
    },
    {
      "cell_type": "markdown",
      "source": [
        "Logistic Regression"
      ],
      "metadata": {
        "id": "0asN_sVoVsAr"
      }
    },
    {
      "cell_type": "code",
      "source": [
        "from sklearn.linear_model import LogisticRegression\n",
        "\n",
        "clf_log = LogisticRegression(solver = 'newton-cg')\n",
        "clf_log.fit(train_x_vectors, train_y)"
      ],
      "metadata": {
        "id": "aS9V9qchVIII",
        "colab": {
          "base_uri": "https://localhost:8080/"
        },
        "outputId": "720f8d20-875d-47f1-bc23-dd49571511d3"
      },
      "execution_count": 16,
      "outputs": [
        {
          "output_type": "execute_result",
          "data": {
            "text/plain": [
              "LogisticRegression(solver='newton-cg')"
            ]
          },
          "metadata": {},
          "execution_count": 16
        }
      ]
    },
    {
      "cell_type": "code",
      "source": [
        "clf_log.predict(test_x_vectors[0])"
      ],
      "metadata": {
        "id": "3AQO9F4pWKU9",
        "colab": {
          "base_uri": "https://localhost:8080/"
        },
        "outputId": "28f94ce4-9663-4061-b4bc-1f79e1177d76"
      },
      "execution_count": 17,
      "outputs": [
        {
          "output_type": "execute_result",
          "data": {
            "text/plain": [
              "array(['NEUTRAL'], dtype='<U8')"
            ]
          },
          "metadata": {},
          "execution_count": 17
        }
      ]
    },
    {
      "cell_type": "markdown",
      "source": [
        "### EVALUATION  \n",
        "\n",
        "mean accuracy"
      ],
      "metadata": {
        "id": "-tyzVxjv2ZS3"
      }
    },
    {
      "cell_type": "code",
      "source": [
        "# for Linear Support Vector Machines\n",
        "clf_svm.score(test_x_vectors, test_y)"
      ],
      "metadata": {
        "id": "bP2LIfzD2c0X",
        "colab": {
          "base_uri": "https://localhost:8080/"
        },
        "outputId": "8530dbe2-c116-4f31-c003-4c8dfdcb63a3"
      },
      "execution_count": 18,
      "outputs": [
        {
          "output_type": "execute_result",
          "data": {
            "text/plain": [
              "0.6431623931623932"
            ]
          },
          "metadata": {},
          "execution_count": 18
        }
      ]
    },
    {
      "cell_type": "code",
      "source": [
        "# for Decision tree classifier\n",
        "clf_dec.score(test_x_vectors, test_y)"
      ],
      "metadata": {
        "id": "aTyoWFF123CL",
        "colab": {
          "base_uri": "https://localhost:8080/"
        },
        "outputId": "92b707ec-0a81-441d-f268-67039ded5182"
      },
      "execution_count": 19,
      "outputs": [
        {
          "output_type": "execute_result",
          "data": {
            "text/plain": [
              "0.46153846153846156"
            ]
          },
          "metadata": {},
          "execution_count": 19
        }
      ]
    },
    {
      "cell_type": "code",
      "source": [
        "# for Naive bayes - GuassianNB\n",
        "clf_gnb.score(test_x_vectors.toarray(), test_y)"
      ],
      "metadata": {
        "id": "JZnmCPS83Bvq",
        "colab": {
          "base_uri": "https://localhost:8080/"
        },
        "outputId": "f28e4b7e-2cbb-46ba-c8e1-0cdf5373ee35"
      },
      "execution_count": 20,
      "outputs": [
        {
          "output_type": "execute_result",
          "data": {
            "text/plain": [
              "0.4465811965811966"
            ]
          },
          "metadata": {},
          "execution_count": 20
        }
      ]
    },
    {
      "cell_type": "code",
      "source": [
        "# for logistic regression - newton-cg solver\n",
        "clf_log.score(test_x_vectors, test_y)"
      ],
      "metadata": {
        "id": "Ye7tp-hw3BiD",
        "colab": {
          "base_uri": "https://localhost:8080/"
        },
        "outputId": "304409b0-7d32-411a-844d-712241f919d0"
      },
      "execution_count": 21,
      "outputs": [
        {
          "output_type": "execute_result",
          "data": {
            "text/plain": [
              "0.6773504273504274"
            ]
          },
          "metadata": {},
          "execution_count": 21
        }
      ]
    },
    {
      "cell_type": "markdown",
      "source": [
        "## F1 Score"
      ],
      "metadata": {
        "id": "w77kkVu83ZpG"
      }
    },
    {
      "cell_type": "code",
      "source": [
        "from sklearn.metrics import f1_score\n",
        "\n",
        "\n",
        "print(f1_score(test_y, clf_svm.predict(test_x_vectors), average=None, labels=[Sentiment.POSITIVE, Sentiment.NEUTRAL, Sentiment.NEGATIVE]))\n",
        "print(f1_score(test_y, clf_dec.predict(test_x_vectors), average=None, labels=[Sentiment.POSITIVE, Sentiment.NEUTRAL, Sentiment.NEGATIVE]))\n",
        "print(f1_score(test_y, clf_gnb.predict(test_x_vectors.toarray()), average=None, labels=[Sentiment.POSITIVE, Sentiment.NEUTRAL, Sentiment.NEGATIVE]))\n",
        "print(f1_score(test_y, clf_log.predict(test_x_vectors), average=None, labels=[Sentiment.POSITIVE, Sentiment.NEUTRAL, Sentiment.NEGATIVE]))"
      ],
      "metadata": {
        "id": "_fKbzu1u4yFg",
        "colab": {
          "base_uri": "https://localhost:8080/"
        },
        "outputId": "97eec114-d618-40ed-e5f5-09af15b4ef9c"
      },
      "execution_count": 22,
      "outputs": [
        {
          "output_type": "stream",
          "name": "stdout",
          "text": [
            "[0.73684211 0.54368932 0.64473684]\n",
            "[0.49529781 0.43949045 0.44884488]\n",
            "[0.46357616 0.4137931  0.46853147]\n",
            "[0.75       0.59210526 0.68243243]\n"
          ]
        }
      ]
    },
    {
      "cell_type": "code",
      "source": [
        "print(train_y.count(Sentiment.POSITIVE))\n",
        "print(train_y.count(Sentiment.NEUTRAL))\n",
        "print(train_y.count(Sentiment.NEGATIVE))\n",
        "print(\"__\")\n",
        "print(\" \")\n",
        "print(test_y.count(Sentiment.POSITIVE))\n",
        "print(test_y.count(Sentiment.NEUTRAL))\n",
        "print(test_y.count(Sentiment.NEGATIVE))\n",
        "print(\"__\")\n",
        "print(\" \")\n",
        "print(\" Total observations : \", train_y.count(Sentiment.POSITIVE) + train_y.count(Sentiment.NEUTRAL) + train_y.count(Sentiment.NEGATIVE) + test_y.count(Sentiment.POSITIVE) + test_y.count(Sentiment.NEUTRAL) + test_y.count(Sentiment.NEGATIVE))\n"
      ],
      "metadata": {
        "id": "IFWYZpw2AAyd",
        "colab": {
          "base_uri": "https://localhost:8080/"
        },
        "outputId": "fa2cfaff-4d4f-4375-9334-03c2f9fcc887"
      },
      "execution_count": 23,
      "outputs": [
        {
          "output_type": "stream",
          "name": "stdout",
          "text": [
            "488\n",
            "488\n",
            "488\n",
            "__\n",
            " \n",
            "156\n",
            "156\n",
            "156\n",
            "__\n",
            " \n",
            " Total observations :  1932\n"
          ]
        }
      ]
    }
  ]
}