{
  "nbformat": 4,
  "nbformat_minor": 0,
  "metadata": {
    "colab": {
      "name": "SKLearn models learning session",
      "provenance": [],
      "collapsed_sections": [],
      "authorship_tag": "ABX9TyP7GTcT2VQ8CrMAmMjUlVao",
      "include_colab_link": true
    },
    "kernelspec": {
      "name": "python3",
      "display_name": "Python 3"
    },
    "language_info": {
      "name": "python"
    }
  },
  "cells": [
    {
      "cell_type": "markdown",
      "metadata": {
        "id": "view-in-github",
        "colab_type": "text"
      },
      "source": [
        "<a href=\"https://colab.research.google.com/github/santoshhulbutti/ML_Concepts_Practice/blob/main/SKLearn_models_learning_session.ipynb\" target=\"_parent\"><img src=\"https://colab.research.google.com/assets/colab-badge.svg\" alt=\"Open In Colab\"/></a>"
      ]
    },
    {
      "cell_type": "markdown",
      "source": [
        "DATA CLASS"
      ],
      "metadata": {
        "id": "mPmZtFxrn40n"
      }
    },
    {
      "cell_type": "code",
      "source": [
        "class Sentiment:\n",
        "  NEGATIVE = \"NEGATIVE\"\n",
        "  NEUTRAL = \"NEUTRAL\"\n",
        "  POSITIVE = \"POSITIVE\"\n",
        "\n",
        "class Review:\n",
        "  def __init__(self, text, score):\n",
        "    self.text = text\n",
        "    self.score = score\n",
        "    self.sentiment = self.get_sentiment()\n",
        "  \n",
        "  def get_sentiment(self):\n",
        "    if self.score <= 2:\n",
        "      return Sentiment.NEGATIVE\n",
        "    elif self.score ==3:\n",
        "      return Sentiment.NEUTRAL\n",
        "    else: #if score if 4 or 5\n",
        "      return Sentiment.POSITIVE"
      ],
      "metadata": {
        "id": "USTe6kmjjSCa"
      },
      "execution_count": null,
      "outputs": []
    },
    {
      "cell_type": "markdown",
      "source": [
        "Cleaning data"
      ],
      "metadata": {
        "id": "WsVHdeNjGvfQ"
      }
    },
    {
      "cell_type": "code",
      "source": [
        "import json\n",
        "file_name = './sample_data/Books_small_10000.json'\n",
        "\n",
        "reviews = []\n",
        "with open(file_name) as f:\n",
        "   for line in f:\n",
        "     print(line)\n",
        "     break"
      ],
      "metadata": {
        "id": "CB2NKBnwGuQY",
        "colab": {
          "base_uri": "https://localhost:8080/"
        },
        "outputId": "b040269c-5ba7-41f7-897a-9953233ff742"
      },
      "execution_count": null,
      "outputs": [
        {
          "output_type": "stream",
          "name": "stdout",
          "text": [
            "{\"reviewerID\": \"A1F2H80A1ZNN1N\", \"asin\": \"B00GDM3NQC\", \"reviewerName\": \"Connie Correll\", \"helpful\": [0, 0], \"reviewText\": \"I bought both boxed sets, books 1-5.  Really a great series!  Start book 1 three weeks ago and just finished book 5.  Sloane Monroe is a great character and being able to follow her through both private life and her PI life gets a reader very involved!  Although clues may be right in front of the reader, there are twists and turns that keep one guessing until the last page!  These are books you won't be disappointed with.\", \"overall\": 5.0, \"summary\": \"Can't stop reading!\", \"unixReviewTime\": 1390435200, \"reviewTime\": \"01 23, 2014\"}\n",
            "\n"
          ]
        }
      ]
    },
    {
      "cell_type": "markdown",
      "source": [
        "Loadning data"
      ],
      "metadata": {
        "id": "X1JncS-Rn-nW"
      }
    },
    {
      "cell_type": "code",
      "source": [
        "with open(file_name) as f:\n",
        "   for line in f:\n",
        "     review = json.loads(line)\n",
        "     reviews.append(Review(review['reviewText'], review['overall']))"
      ],
      "metadata": {
        "id": "DW_kYp94dY4U"
      },
      "execution_count": null,
      "outputs": []
    },
    {
      "cell_type": "code",
      "source": [
        "reviews[5].text"
      ],
      "metadata": {
        "colab": {
          "base_uri": "https://localhost:8080/",
          "height": 105
        },
        "id": "ipcIx7XOg3qr",
        "outputId": "ccbf241c-3854-469b-822b-a5749d5387a2"
      },
      "execution_count": null,
      "outputs": [
        {
          "output_type": "execute_result",
          "data": {
            "text/plain": [
              "'I hoped for Mia to have some peace in this book, but her story is so real and raw.  Broken World was so touching and emotional because you go from Mia\\'s trauma to her trying to cope.  I love the way the story displays how there is no \"just bouncing back\" from being sexually assaulted.  Mia showed us how those demons come for you every day and how sometimes they best you. I was so in the moment with Broken World and hurt with Mia because she was surrounded by people but so alone and I understood her feelings.  I found myself wishing I could give her some of my courage and strength or even just to be there for her.  Thank you Lizzy for putting a great character\\'s voice on a strong subject and making it so that other peoples story may be heard through Mia\\'s.'"
            ],
            "application/vnd.google.colaboratory.intrinsic+json": {
              "type": "string"
            }
          },
          "metadata": {},
          "execution_count": 7
        }
      ]
    },
    {
      "cell_type": "code",
      "source": [
        "reviews[5].score"
      ],
      "metadata": {
        "colab": {
          "base_uri": "https://localhost:8080/"
        },
        "id": "cSJmiWHYkw77",
        "outputId": "3bcdaead-b506-4b94-937d-f528502cd3e8"
      },
      "execution_count": null,
      "outputs": [
        {
          "output_type": "execute_result",
          "data": {
            "text/plain": [
              "5.0"
            ]
          },
          "metadata": {},
          "execution_count": 8
        }
      ]
    },
    {
      "cell_type": "code",
      "source": [
        "reviews[5].sentiment"
      ],
      "metadata": {
        "colab": {
          "base_uri": "https://localhost:8080/",
          "height": 36
        },
        "id": "kJhbfsk4k_RU",
        "outputId": "52ae1405-77ea-49ec-c8b4-bfca82867550"
      },
      "execution_count": null,
      "outputs": [
        {
          "output_type": "execute_result",
          "data": {
            "text/plain": [
              "'POSITIVE'"
            ],
            "application/vnd.google.colaboratory.intrinsic+json": {
              "type": "string"
            }
          },
          "metadata": {},
          "execution_count": 9
        }
      ]
    },
    {
      "cell_type": "code",
      "source": [
        "reviews[0].text"
      ],
      "metadata": {
        "colab": {
          "base_uri": "https://localhost:8080/",
          "height": 70
        },
        "id": "-OIvoSt0hN6P",
        "outputId": "81116bc4-552e-4a34-b2ac-d54a6666a482"
      },
      "execution_count": null,
      "outputs": [
        {
          "output_type": "execute_result",
          "data": {
            "text/plain": [
              "\"I bought both boxed sets, books 1-5.  Really a great series!  Start book 1 three weeks ago and just finished book 5.  Sloane Monroe is a great character and being able to follow her through both private life and her PI life gets a reader very involved!  Although clues may be right in front of the reader, there are twists and turns that keep one guessing until the last page!  These are books you won't be disappointed with.\""
            ],
            "application/vnd.google.colaboratory.intrinsic+json": {
              "type": "string"
            }
          },
          "metadata": {},
          "execution_count": 10
        }
      ]
    },
    {
      "cell_type": "code",
      "source": [
        "len(reviews)"
      ],
      "metadata": {
        "colab": {
          "base_uri": "https://localhost:8080/"
        },
        "id": "cHFjFc1mlBXS",
        "outputId": "5dc697cd-e89c-4948-b8ee-0bca3a93db0b"
      },
      "execution_count": null,
      "outputs": [
        {
          "output_type": "execute_result",
          "data": {
            "text/plain": [
              "10000"
            ]
          },
          "metadata": {},
          "execution_count": 11
        }
      ]
    },
    {
      "cell_type": "markdown",
      "source": [
        "Prep Data"
      ],
      "metadata": {
        "id": "ZLRFAuf_ljXr"
      }
    },
    {
      "cell_type": "code",
      "source": [
        "from sklearn.model_selection import train_test_split\n",
        "\n",
        "train, test = train_test_split(reviews, test_size = 0.25, random_state = 27)"
      ],
      "metadata": {
        "id": "-kAcjmADU-08"
      },
      "execution_count": null,
      "outputs": []
    },
    {
      "cell_type": "code",
      "source": [
        "print(train[0].sentiment)"
      ],
      "metadata": {
        "colab": {
          "base_uri": "https://localhost:8080/"
        },
        "id": "Yhl7STRlh6qb",
        "outputId": "bbc57959-0946-4f30-d8bc-d4fa0b2590fb"
      },
      "execution_count": null,
      "outputs": [
        {
          "output_type": "stream",
          "name": "stdout",
          "text": [
            "POSITIVE\n"
          ]
        }
      ]
    },
    {
      "cell_type": "code",
      "source": [
        "train_x = [x.text for x in train]\n",
        "train_y = [x.sentiment for x in train]\n",
        "\n",
        "test_x = [x.text for x in test]\n",
        "test_y = [x.sentiment for x in test]"
      ],
      "metadata": {
        "id": "R_UVHKY9h_L5"
      },
      "execution_count": null,
      "outputs": []
    },
    {
      "cell_type": "markdown",
      "source": [
        "bag of words vectorization"
      ],
      "metadata": {
        "id": "OC_io270Kt_X"
      }
    },
    {
      "cell_type": "code",
      "source": [
        "from sklearn.feature_extraction.text import CountVectorizer\n",
        "\n",
        "vectorizer = CountVectorizer()\n",
        "train_x_vectors = vectorizer.fit_transform(train_x)\n",
        "test_x_vectors = vectorizer.transform(test_x)\n"
      ],
      "metadata": {
        "id": "krtniP3NKyOs"
      },
      "execution_count": null,
      "outputs": []
    },
    {
      "cell_type": "code",
      "source": [
        "print(train_x[0])\n",
        "print(train_x_vectors[0].toarray())\n",
        "# print(train_x_vectors[0])"
      ],
      "metadata": {
        "colab": {
          "base_uri": "https://localhost:8080/"
        },
        "id": "dtnQ0Jj3L2Uy",
        "outputId": "4875b16d-ad11-45af-df37-dbf6ec9e87d8"
      },
      "execution_count": null,
      "outputs": [
        {
          "output_type": "stream",
          "name": "stdout",
          "text": [
            "This book depicted the real life adversities some young girls in the hood must endure. As they strive to escape the hood, they often become a product of their environment. Seeking to rise above their challenges, both Breeze and Dior became victims of their environment because they were strapped with the hood mentality. When they view their choices as limited, they often take desperate measures to rise above. And the route they take to escape certain destinies leads them right to it.Jai Ellis did a good job of showing how good and evil does coexist within us all. But it's a daily struggle and one we can win if we make the right choices. It was an interesting read, one which I enjoyed. I loved the way that it ended and I was simultaneously saddened with the end, but that's the way that lifestyle goes.\n",
            "[[0 0 0 ... 0 0 0]]\n"
          ]
        }
      ]
    },
    {
      "cell_type": "markdown",
      "source": [
        "## Classification"
      ],
      "metadata": {
        "id": "l9SKCCVMOKoO"
      }
    },
    {
      "cell_type": "markdown",
      "source": [
        "Linear Support Vector Machines"
      ],
      "metadata": {
        "id": "gsOSu9t2OOk1"
      }
    },
    {
      "cell_type": "code",
      "source": [
        "from sklearn import svm\n",
        "clf_svm = svm.SVC(kernel ='linear')\n",
        "clf_svm.fit(train_x_vectors, train_y)"
      ],
      "metadata": {
        "colab": {
          "base_uri": "https://localhost:8080/"
        },
        "id": "KTZd6fWjMJlA",
        "outputId": "07e47de5-c746-492f-8673-03e7dffa1987"
      },
      "execution_count": null,
      "outputs": [
        {
          "output_type": "execute_result",
          "data": {
            "text/plain": [
              "SVC(kernel='linear')"
            ]
          },
          "metadata": {},
          "execution_count": 17
        }
      ]
    },
    {
      "cell_type": "code",
      "source": [
        "test_x[0]"
      ],
      "metadata": {
        "colab": {
          "base_uri": "https://localhost:8080/",
          "height": 36
        },
        "id": "cRC9xpDLSzMc",
        "outputId": "3f712c15-8d91-4179-d918-a42e0c297db4"
      },
      "execution_count": null,
      "outputs": [
        {
          "output_type": "execute_result",
          "data": {
            "text/plain": [
              "'Don;trealy enjoy readng about the problems  of Scotland and England in the 16th? century.  Was interesting but a little confusong abgout the relationships'"
            ],
            "application/vnd.google.colaboratory.intrinsic+json": {
              "type": "string"
            }
          },
          "metadata": {},
          "execution_count": 18
        }
      ]
    },
    {
      "cell_type": "code",
      "source": [
        "clf_svm.predict(test_x_vectors[0])"
      ],
      "metadata": {
        "colab": {
          "base_uri": "https://localhost:8080/"
        },
        "id": "r6gFQ1vrSrEW",
        "outputId": "a2b174e8-8281-4730-fe8f-348926b81fed"
      },
      "execution_count": null,
      "outputs": [
        {
          "output_type": "execute_result",
          "data": {
            "text/plain": [
              "array(['POSITIVE'], dtype='<U8')"
            ]
          },
          "metadata": {},
          "execution_count": 19
        }
      ]
    },
    {
      "cell_type": "markdown",
      "source": [
        "Decision tree"
      ],
      "metadata": {
        "id": "cwSKrK2kTIf1"
      }
    },
    {
      "cell_type": "code",
      "source": [
        "from sklearn.tree import DecisionTreeClassifier\n",
        "\n",
        "clf_dec = DecisionTreeClassifier()\n",
        "clf_dec.fit(train_x_vectors, train_y)"
      ],
      "metadata": {
        "colab": {
          "base_uri": "https://localhost:8080/"
        },
        "id": "oM_XDTBtTLxN",
        "outputId": "b08d235b-1fdb-4749-a959-54ccc6765ef5"
      },
      "execution_count": null,
      "outputs": [
        {
          "output_type": "execute_result",
          "data": {
            "text/plain": [
              "DecisionTreeClassifier()"
            ]
          },
          "metadata": {},
          "execution_count": 20
        }
      ]
    },
    {
      "cell_type": "code",
      "source": [
        "clf_dec.predict(test_x_vectors[0])"
      ],
      "metadata": {
        "colab": {
          "base_uri": "https://localhost:8080/"
        },
        "id": "0xDle4h2UAyh",
        "outputId": "54865006-9f62-4085-d3a7-48ee8b258651"
      },
      "execution_count": null,
      "outputs": [
        {
          "output_type": "execute_result",
          "data": {
            "text/plain": [
              "array(['POSITIVE'], dtype='<U8')"
            ]
          },
          "metadata": {},
          "execution_count": 21
        }
      ]
    },
    {
      "cell_type": "markdown",
      "source": [
        "Naive Bayes"
      ],
      "metadata": {
        "id": "oyv1RgH5ULy7"
      }
    },
    {
      "cell_type": "code",
      "source": [
        "from sklearn.naive_bayes import GaussianNB\n",
        "\n",
        "clf_gnb = GaussianNB()\n",
        "clf_gnb.fit(train_x_vectors.toarray(), train_y)"
      ],
      "metadata": {
        "colab": {
          "base_uri": "https://localhost:8080/"
        },
        "id": "jvvFg97MUJXs",
        "outputId": "8a593768-cd77-4aa1-daf7-1a9313cf32e2"
      },
      "execution_count": null,
      "outputs": [
        {
          "output_type": "execute_result",
          "data": {
            "text/plain": [
              "GaussianNB()"
            ]
          },
          "metadata": {},
          "execution_count": 22
        }
      ]
    },
    {
      "cell_type": "code",
      "source": [
        "clf_gnb.predict(test_x_vectors[0].toarray())"
      ],
      "metadata": {
        "colab": {
          "base_uri": "https://localhost:8080/"
        },
        "id": "N0TH1IcyVCLT",
        "outputId": "9deb4008-fa60-44ff-d29d-d9aeafb3ebd0"
      },
      "execution_count": null,
      "outputs": [
        {
          "output_type": "execute_result",
          "data": {
            "text/plain": [
              "array(['POSITIVE'], dtype='<U8')"
            ]
          },
          "metadata": {},
          "execution_count": 23
        }
      ]
    },
    {
      "cell_type": "markdown",
      "source": [
        "Logistic Regression"
      ],
      "metadata": {
        "id": "0asN_sVoVsAr"
      }
    },
    {
      "cell_type": "code",
      "source": [
        "from sklearn.linear_model import LogisticRegression\n",
        "\n",
        "clf_log = LogisticRegression(solver = 'newton-cg')\n",
        "clf_log.fit(train_x_vectors, train_y)"
      ],
      "metadata": {
        "colab": {
          "base_uri": "https://localhost:8080/"
        },
        "id": "aS9V9qchVIII",
        "outputId": "5b5ec839-e7c2-41be-ae09-4d6924bea096"
      },
      "execution_count": null,
      "outputs": [
        {
          "output_type": "execute_result",
          "data": {
            "text/plain": [
              "LogisticRegression(solver='newton-cg')"
            ]
          },
          "metadata": {},
          "execution_count": 24
        }
      ]
    },
    {
      "cell_type": "code",
      "source": [
        "clf_log.predict(test_x_vectors[0])"
      ],
      "metadata": {
        "colab": {
          "base_uri": "https://localhost:8080/"
        },
        "id": "3AQO9F4pWKU9",
        "outputId": "8b40fe71-d23c-4fef-8294-ce6e4ab6545c"
      },
      "execution_count": null,
      "outputs": [
        {
          "output_type": "execute_result",
          "data": {
            "text/plain": [
              "array(['POSITIVE'], dtype='<U8')"
            ]
          },
          "metadata": {},
          "execution_count": 25
        }
      ]
    },
    {
      "cell_type": "markdown",
      "source": [
        "### EVALUATION  \n",
        "\n",
        "mean accuracy"
      ],
      "metadata": {
        "id": "-tyzVxjv2ZS3"
      }
    },
    {
      "cell_type": "code",
      "source": [
        "# for Linear Support Vector Machines\n",
        "clf_svm.score(test_x_vectors, test_y)"
      ],
      "metadata": {
        "colab": {
          "base_uri": "https://localhost:8080/"
        },
        "id": "bP2LIfzD2c0X",
        "outputId": "dbead0f6-a553-4c30-aaf8-79ca7c824106"
      },
      "execution_count": null,
      "outputs": [
        {
          "output_type": "execute_result",
          "data": {
            "text/plain": [
              "0.812"
            ]
          },
          "metadata": {},
          "execution_count": 26
        }
      ]
    },
    {
      "cell_type": "code",
      "source": [
        "# for Decision tree classifier\n",
        "clf_dec.score(test_x_vectors, test_y)"
      ],
      "metadata": {
        "colab": {
          "base_uri": "https://localhost:8080/"
        },
        "id": "aTyoWFF123CL",
        "outputId": "1299ea3d-e944-445a-cf13-9560695f779d"
      },
      "execution_count": null,
      "outputs": [
        {
          "output_type": "execute_result",
          "data": {
            "text/plain": [
              "0.7608"
            ]
          },
          "metadata": {},
          "execution_count": 27
        }
      ]
    },
    {
      "cell_type": "code",
      "source": [
        "# for Naive bayes - GuassianNB\n",
        "clf_gnb.score(test_x_vectors.toarray(), test_y)"
      ],
      "metadata": {
        "colab": {
          "base_uri": "https://localhost:8080/"
        },
        "id": "JZnmCPS83Bvq",
        "outputId": "549c2066-c781-4ade-8573-353b5e4f8017"
      },
      "execution_count": null,
      "outputs": [
        {
          "output_type": "execute_result",
          "data": {
            "text/plain": [
              "0.6432"
            ]
          },
          "metadata": {},
          "execution_count": 29
        }
      ]
    },
    {
      "cell_type": "code",
      "source": [
        "# for logistic regression - newton-cg solver\n",
        "clf_log.score(test_x_vectors, test_y)"
      ],
      "metadata": {
        "colab": {
          "base_uri": "https://localhost:8080/"
        },
        "id": "Ye7tp-hw3BiD",
        "outputId": "01f37aad-3756-4712-9648-34daba35e7a1"
      },
      "execution_count": null,
      "outputs": [
        {
          "output_type": "execute_result",
          "data": {
            "text/plain": [
              "0.8396"
            ]
          },
          "metadata": {},
          "execution_count": 30
        }
      ]
    },
    {
      "cell_type": "markdown",
      "source": [
        "## F1 Score"
      ],
      "metadata": {
        "id": "w77kkVu83ZpG"
      }
    },
    {
      "cell_type": "code",
      "source": [
        "from sklearn.metrics import f1_score\n",
        "\n",
        "\n",
        "print(f1_score(test_y, clf_svm.predict(test_x_vectors), average=None, labels=[Sentiment.POSITIVE, Sentiment.NEUTRAL, Sentiment.NEGATIVE]))\n",
        "print(f1_score(test_y, clf_dec.predict(test_x_vectors), average=None, labels=[Sentiment.POSITIVE, Sentiment.NEUTRAL, Sentiment.NEGATIVE]))\n",
        "print(f1_score(test_y, clf_gnb.predict(test_x_vectors.toarray()), average=None, labels=[Sentiment.POSITIVE, Sentiment.NEUTRAL, Sentiment.NEGATIVE]))\n",
        "print(f1_score(test_y, clf_log.predict(test_x_vectors), average=None, labels=[Sentiment.POSITIVE, Sentiment.NEUTRAL, Sentiment.NEGATIVE]))"
      ],
      "metadata": {
        "colab": {
          "base_uri": "https://localhost:8080/"
        },
        "id": "_fKbzu1u4yFg",
        "outputId": "5d883c99-37be-41f2-aca5-ccd9b7eeafaf"
      },
      "execution_count": null,
      "outputs": [
        {
          "output_type": "stream",
          "name": "stdout",
          "text": [
            "[0.90341045 0.27196653 0.43161094]\n",
            "[0.87265038 0.12366738 0.11636364]\n",
            "[0.78622449 0.11969112 0.12811388]\n",
            "[0.91960967 0.29439252 0.42537313]\n"
          ]
        }
      ]
    },
    {
      "cell_type": "code",
      "source": [
        "print(train_y.count(Sentiment.POSITIVE))\n",
        "print(train_y.count(Sentiment.NEUTRAL))\n",
        "print(train_y.count(Sentiment.NEGATIVE))\n",
        "print(\"__\")\n",
        "print(\" \")\n",
        "print(test_y.count(Sentiment.POSITIVE))\n",
        "print(test_y.count(Sentiment.NEUTRAL))\n",
        "print(test_y.count(Sentiment.NEGATIVE))\n",
        "print(\"__\")\n",
        "print(\" \")\n",
        "print(\" Total observations : \", train_y.count(Sentiment.POSITIVE) + train_y.count(Sentiment.NEUTRAL) + train_y.count(Sentiment.NEGATIVE) + test_y.count(Sentiment.POSITIVE) + test_y.count(Sentiment.NEUTRAL) + test_y.count(Sentiment.NEGATIVE))\n"
      ],
      "metadata": {
        "colab": {
          "base_uri": "https://localhost:8080/"
        },
        "id": "bGZ3Be2g6F-U",
        "outputId": "e70598be-338b-4b9f-81c1-b5368e6103df"
      },
      "execution_count": null,
      "outputs": [
        {
          "output_type": "stream",
          "name": "stdout",
          "text": [
            "6300\n",
            "712\n",
            "488\n",
            "__\n",
            " \n",
            "2078\n",
            "266\n",
            "156\n",
            "__\n",
            " \n",
            " Total observations :  10000\n"
          ]
        }
      ]
    },
    {
      "cell_type": "code",
      "source": [
        ""
      ],
      "metadata": {
        "id": "a9lso7-gAiyB"
      },
      "execution_count": null,
      "outputs": []
    }
  ]
}